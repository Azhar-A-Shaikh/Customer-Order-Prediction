{
 "cells": [
  {
   "attachments": {},
   "cell_type": "markdown",
   "metadata": {},
   "source": [
    "### Problem Statement:\n",
    "Design a scalable system capability to predict customers purchase behavior and based on purchase history. Analyze customer purchase history and predict new incoming order from customers in certain area so that product can be made available in advance at warehouse to fulfill customer demand.\n",
    "Implement following functionality:\n",
    "- Perform research how required data can be collected from open sources and implement data loading pipeline.\n",
    "- Once data has been collected, clean it so that it can be analyzed and new model can be created to predict product   requirement in warehouse based on possible incoming requirement from customer.\n",
    "\n",
    "#### Entire pipeline should be designed using Big data tools.\n"
   ]
  },
  {
   "attachments": {},
   "cell_type": "markdown",
   "metadata": {},
   "source": [
    "### Dataset Description\n",
    "\n",
    "File Descriptions and Data Field Information\n",
    "\n",
    "#### train.csv\n",
    "* The training data, comprising time series of features store_nbr, family, and onpromotion as well as the target sales.\n",
    "* store_nbr identifies the store at which the products are sold.\n",
    "* family identifies the type of product sold.\n",
    "* sales gives the total sales for a product family at a particular store at a given date. Fractional values are possible since products can be sold in fractional units (1.5 kg of cheese, for instance, as opposed to 1 bag of chips).\n",
    "* onpromotion gives the total number of items in a product family that were being promoted at a store at a given date.\n",
    "\n",
    "#### test.csv\n",
    "* The test data, having the same features as the training data. You will predict the target sales for the dates in this file.\n",
    "* The dates in the test data are for the 15 days after the last date in the training data.\n",
    "\n",
    "#### stores.csv\n",
    "* Store metadata, including city, state, type, and cluster.\n",
    "* cluster is a grouping of similar stores.\n",
    "\n",
    "#### oil.csv\n",
    "* Daily oil price. Includes values during both the train and test data timeframes. (Ecuador is an oil-dependent country and it's economical health is highly vulnerable to shocks in oil prices.)\n",
    "\n",
    "#### holidays_events.csv\n",
    "* Holidays and Events, with metadata\n",
    "* NOTE: Pay special attention to the transferred column. A holiday that is transferred officially falls on that calendar day, but was moved to another date by the government. A transferred day is more like a normal day than a holiday. To find the day that it was actually celebrated, look for the corresponding row where type is Transfer. For example, the holiday Independencia de Guayaquil was transferred from 2012-10-09 to 2012-10-12, which means it was celebrated on 2012-10-12. Days that are type Bridge are extra days that are added to a holiday (e.g., to extend the break across a long weekend). These are frequently made up by the type Work Day which is a day not normally scheduled for work (e.g., Saturday) that is meant to payback the Bridge.\n",
    "* Additional holidays are days added a regular calendar holiday, for example, as typically happens around Christmas (making Christmas Eve a holiday).\n",
    "\n",
    "#### Additional Notes\n",
    "* Wages in the public sector are paid every two weeks on the 15 th and on the last day of the month. Supermarket sales could be affected by this.\n",
    "* A magnitude 7.8 earthquake struck Ecuador on April 16, 2016. People rallied in relief efforts donating water and other first need products which greatly affected supermarket sales for several weeks after the earthquake."
   ]
  },
  {
   "attachments": {},
   "cell_type": "markdown",
   "metadata": {},
   "source": [
    "#### Importing Libraries"
   ]
  },
  {
   "cell_type": "code",
   "execution_count": 1,
   "metadata": {},
   "outputs": [],
   "source": [
    "import pyspark\n",
    "from pyspark.sql import SparkSession\n",
    "import datetime\n",
    "import time"
   ]
  },
  {
   "attachments": {},
   "cell_type": "markdown",
   "metadata": {},
   "source": [
    "#### Setting up spark section"
   ]
  },
  {
   "cell_type": "code",
   "execution_count": 2,
   "metadata": {},
   "outputs": [],
   "source": [
    "spark = SparkSession.builder.appName(\"CustomerOrder\").getOrCreate()"
   ]
  },
  {
   "cell_type": "code",
   "execution_count": 3,
   "metadata": {},
   "outputs": [
    {
     "data": {
      "text/html": [
       "\n",
       "            <div>\n",
       "                <p><b>SparkSession - in-memory</b></p>\n",
       "                \n",
       "        <div>\n",
       "            <p><b>SparkContext</b></p>\n",
       "\n",
       "            <p><a href=\"http://DESKTOP-QL5DANA:4040\">Spark UI</a></p>\n",
       "\n",
       "            <dl>\n",
       "              <dt>Version</dt>\n",
       "                <dd><code>v3.3.0</code></dd>\n",
       "              <dt>Master</dt>\n",
       "                <dd><code>local[*]</code></dd>\n",
       "              <dt>AppName</dt>\n",
       "                <dd><code>CustomerOrder</code></dd>\n",
       "            </dl>\n",
       "        </div>\n",
       "        \n",
       "            </div>\n",
       "        "
      ],
      "text/plain": [
       "<pyspark.sql.session.SparkSession at 0x1c89ce2b4f0>"
      ]
     },
     "execution_count": 3,
     "metadata": {},
     "output_type": "execute_result"
    }
   ],
   "source": [
    "spark"
   ]
  },
  {
   "attachments": {},
   "cell_type": "markdown",
   "metadata": {},
   "source": [
    "Reading all the csv files "
   ]
  },
  {
   "cell_type": "code",
   "execution_count": 4,
   "metadata": {},
   "outputs": [],
   "source": [
    "df_holiday_event = spark.read.csv(\"holidays_events.csv\", header=True, inferSchema=True)\n",
    "df_oil = spark.read.csv(\"oil.csv\", header=True, inferSchema=True)\n",
    "df_stores = spark.read.csv(\"stores.csv\", header=True, inferSchema=True)\n",
    "df_trans = spark.read.csv(\"transactions.csv\", header=True, inferSchema=True)\n",
    "df_train = spark.read.csv(\"train.csv\", header=True, inferSchema=True)\n"
   ]
  },
  {
   "cell_type": "code",
   "execution_count": 5,
   "metadata": {},
   "outputs": [
    {
     "name": "stdout",
     "output_type": "stream",
     "text": [
      "+-------------------+-------+--------+-----------+--------------------+-----------+\n",
      "|               date|   type|  locale|locale_name|         description|transferred|\n",
      "+-------------------+-------+--------+-----------+--------------------+-----------+\n",
      "|2012-03-02 00:00:00|Holiday|   Local|      Manta|  Fundacion de Manta|      false|\n",
      "|2012-04-01 00:00:00|Holiday|Regional|   Cotopaxi|Provincializacion...|      false|\n",
      "|2012-04-12 00:00:00|Holiday|   Local|     Cuenca| Fundacion de Cuenca|      false|\n",
      "|2012-04-14 00:00:00|Holiday|   Local|   Libertad|Cantonizacion de ...|      false|\n",
      "|2012-04-21 00:00:00|Holiday|   Local|   Riobamba|Cantonizacion de ...|      false|\n",
      "+-------------------+-------+--------+-----------+--------------------+-----------+\n",
      "only showing top 5 rows\n",
      "\n"
     ]
    }
   ],
   "source": [
    "df_holiday_event.show(5)"
   ]
  },
  {
   "cell_type": "code",
   "execution_count": 6,
   "metadata": {},
   "outputs": [
    {
     "name": "stdout",
     "output_type": "stream",
     "text": [
      "+-------------------+----------+\n",
      "|               date|dcoilwtico|\n",
      "+-------------------+----------+\n",
      "|2013-01-01 00:00:00|      null|\n",
      "|2013-01-02 00:00:00|     93.14|\n",
      "|2013-01-03 00:00:00|     92.97|\n",
      "|2013-01-04 00:00:00|     93.12|\n",
      "|2013-01-07 00:00:00|      93.2|\n",
      "+-------------------+----------+\n",
      "only showing top 5 rows\n",
      "\n"
     ]
    }
   ],
   "source": [
    "df_oil.show(5)"
   ]
  },
  {
   "cell_type": "code",
   "execution_count": 7,
   "metadata": {},
   "outputs": [
    {
     "name": "stdout",
     "output_type": "stream",
     "text": [
      "+---------+-------------+--------------------+-----+-------+\n",
      "|store_nbr|         city|               state|type1|cluster|\n",
      "+---------+-------------+--------------------+-----+-------+\n",
      "|        1|        Quito|           Pichincha|    D|     13|\n",
      "|        2|        Quito|           Pichincha|    D|     13|\n",
      "|        3|        Quito|           Pichincha|    D|      8|\n",
      "|        4|        Quito|           Pichincha|    D|      9|\n",
      "|        5|Santo Domingo|Santo Domingo de ...|    D|      4|\n",
      "+---------+-------------+--------------------+-----+-------+\n",
      "only showing top 5 rows\n",
      "\n"
     ]
    }
   ],
   "source": [
    "df_stores.show(5)"
   ]
  },
  {
   "cell_type": "code",
   "execution_count": 8,
   "metadata": {},
   "outputs": [
    {
     "name": "stdout",
     "output_type": "stream",
     "text": [
      "+-------------------+---------+------------+\n",
      "|               date|store_nbr|transactions|\n",
      "+-------------------+---------+------------+\n",
      "|2013-01-01 00:00:00|       25|         770|\n",
      "|2013-01-02 00:00:00|        1|        2111|\n",
      "|2013-01-02 00:00:00|        2|        2358|\n",
      "|2013-01-02 00:00:00|        3|        3487|\n",
      "|2013-01-02 00:00:00|        4|        1922|\n",
      "+-------------------+---------+------------+\n",
      "only showing top 5 rows\n",
      "\n"
     ]
    }
   ],
   "source": [
    "df_trans.show(5)"
   ]
  },
  {
   "cell_type": "code",
   "execution_count": 9,
   "metadata": {},
   "outputs": [
    {
     "name": "stdout",
     "output_type": "stream",
     "text": [
      "+---+-------------------+---------+----------+-----+-----------+\n",
      "| id|               date|store_nbr|    family|sales|onpromotion|\n",
      "+---+-------------------+---------+----------+-----+-----------+\n",
      "|  0|2013-01-01 00:00:00|        1|AUTOMOTIVE|  0.0|          0|\n",
      "|  1|2013-01-01 00:00:00|        1| BABY CARE|  0.0|          0|\n",
      "|  2|2013-01-01 00:00:00|        1|    BEAUTY|  0.0|          0|\n",
      "|  3|2013-01-01 00:00:00|        1| BEVERAGES|  0.0|          0|\n",
      "|  4|2013-01-01 00:00:00|        1|     BOOKS|  0.0|          0|\n",
      "+---+-------------------+---------+----------+-----+-----------+\n",
      "only showing top 5 rows\n",
      "\n"
     ]
    }
   ],
   "source": [
    "df_train.show(5)"
   ]
  },
  {
   "attachments": {},
   "cell_type": "markdown",
   "metadata": {},
   "source": [
    "#### The train.csv file is the file which contains the meta data about the stores sales\n",
    "* I would be adding more Granilurity to the train.csv file by joining other files to get more in-depth information "
   ]
  },
  {
   "attachments": {},
   "cell_type": "markdown",
   "metadata": {},
   "source": [
    "Here I have used the join funtion. To perform join operation on the date column since it as a primary key to our train table file and acting as a foreign key for other table files"
   ]
  },
  {
   "cell_type": "code",
   "execution_count": 10,
   "metadata": {},
   "outputs": [
    {
     "name": "stdout",
     "output_type": "stream",
     "text": [
      "+-------------------+---------+---+----------+-----+-----------+-------+--------+-----------+------------------+-----------+----------+-------+-----------+-----+-------+------------+\n",
      "|               date|store_nbr| id|    family|sales|onpromotion|   type|  locale|locale_name|       description|transferred|dcoilwtico|   city|      state|type1|cluster|transactions|\n",
      "+-------------------+---------+---+----------+-----+-----------+-------+--------+-----------+------------------+-----------+----------+-------+-----------+-----+-------+------------+\n",
      "|2013-01-01 00:00:00|       25|561|AUTOMOTIVE|  0.0|          0|Holiday|National|    Ecuador|Primer dia del ano|      false|      null|Salinas|Santa Elena|    D|      1|         770|\n",
      "|2013-01-01 00:00:00|       25|562| BABY CARE|  0.0|          0|Holiday|National|    Ecuador|Primer dia del ano|      false|      null|Salinas|Santa Elena|    D|      1|         770|\n",
      "|2013-01-01 00:00:00|       25|563|    BEAUTY|  2.0|          0|Holiday|National|    Ecuador|Primer dia del ano|      false|      null|Salinas|Santa Elena|    D|      1|         770|\n",
      "|2013-01-01 00:00:00|       25|564| BEVERAGES|810.0|          0|Holiday|National|    Ecuador|Primer dia del ano|      false|      null|Salinas|Santa Elena|    D|      1|         770|\n",
      "|2013-01-01 00:00:00|       25|565|     BOOKS|  0.0|          0|Holiday|National|    Ecuador|Primer dia del ano|      false|      null|Salinas|Santa Elena|    D|      1|         770|\n",
      "+-------------------+---------+---+----------+-----+-----------+-------+--------+-----------+------------------+-----------+----------+-------+-----------+-----+-------+------------+\n",
      "only showing top 5 rows\n",
      "\n"
     ]
    }
   ],
   "source": [
    "df = df_train.join(df_holiday_event, [\"date\"])\n",
    "df = df.join(df_oil, ['date'])\n",
    "df = df.join(df_stores, ['store_nbr'])\n",
    "df = df.join(df_trans, ['date', 'store_nbr'])\n",
    "df.show(5)"
   ]
  },
  {
   "cell_type": "code",
   "execution_count": 11,
   "metadata": {},
   "outputs": [],
   "source": [
    "df = df.withColumnRenamed('type', 'holiday_type')\n",
    "df = df.withColumnRenamed('type1', 'store_type')\n",
    "df = df.withColumnRenamed('family', 'product_category')\n"
   ]
  },
  {
   "cell_type": "code",
   "execution_count": 12,
   "metadata": {},
   "outputs": [
    {
     "name": "stdout",
     "output_type": "stream",
     "text": [
      "+-------------------+---------+---+----------------+-----+-----------+------------+--------+-----------+------------------+-----------+----------+-------+-----------+----------+-------+------------+\n",
      "|               date|store_nbr| id|product_category|sales|onpromotion|holiday_type|  locale|locale_name|       description|transferred|dcoilwtico|   city|      state|store_type|cluster|transactions|\n",
      "+-------------------+---------+---+----------------+-----+-----------+------------+--------+-----------+------------------+-----------+----------+-------+-----------+----------+-------+------------+\n",
      "|2013-01-01 00:00:00|       25|561|      AUTOMOTIVE|  0.0|          0|     Holiday|National|    Ecuador|Primer dia del ano|      false|      null|Salinas|Santa Elena|         D|      1|         770|\n",
      "|2013-01-01 00:00:00|       25|562|       BABY CARE|  0.0|          0|     Holiday|National|    Ecuador|Primer dia del ano|      false|      null|Salinas|Santa Elena|         D|      1|         770|\n",
      "+-------------------+---------+---+----------------+-----+-----------+------------+--------+-----------+------------------+-----------+----------+-------+-----------+----------+-------+------------+\n",
      "only showing top 2 rows\n",
      "\n"
     ]
    }
   ],
   "source": [
    "df.show(2)"
   ]
  },
  {
   "attachments": {},
   "cell_type": "markdown",
   "metadata": {},
   "source": [
    "#### Removing unrequired columns."
   ]
  },
  {
   "cell_type": "code",
   "execution_count": 13,
   "metadata": {},
   "outputs": [],
   "source": [
    "df1 = df.select(['id','store_nbr','date','product_category','onpromotion','holiday_type','locale',\n",
    "'transferred','dcoilwtico','store_type','cluster','transactions','sales'])"
   ]
  },
  {
   "cell_type": "code",
   "execution_count": 14,
   "metadata": {},
   "outputs": [
    {
     "name": "stdout",
     "output_type": "stream",
     "text": [
      "+---+---------+-------------------+----------------+-----------+------------+--------+-----------+----------+----------+-------+------------+-----+\n",
      "| id|store_nbr|               date|product_category|onpromotion|holiday_type|  locale|transferred|dcoilwtico|store_type|cluster|transactions|sales|\n",
      "+---+---------+-------------------+----------------+-----------+------------+--------+-----------+----------+----------+-------+------------+-----+\n",
      "|561|       25|2013-01-01 00:00:00|      AUTOMOTIVE|          0|     Holiday|National|      false|      null|         D|      1|         770|  0.0|\n",
      "|562|       25|2013-01-01 00:00:00|       BABY CARE|          0|     Holiday|National|      false|      null|         D|      1|         770|  0.0|\n",
      "|563|       25|2013-01-01 00:00:00|          BEAUTY|          0|     Holiday|National|      false|      null|         D|      1|         770|  2.0|\n",
      "|564|       25|2013-01-01 00:00:00|       BEVERAGES|          0|     Holiday|National|      false|      null|         D|      1|         770|810.0|\n",
      "|565|       25|2013-01-01 00:00:00|           BOOKS|          0|     Holiday|National|      false|      null|         D|      1|         770|  0.0|\n",
      "+---+---------+-------------------+----------------+-----------+------------+--------+-----------+----------+----------+-------+------------+-----+\n",
      "only showing top 5 rows\n",
      "\n"
     ]
    }
   ],
   "source": [
    "df1.show(5)"
   ]
  },
  {
   "attachments": {},
   "cell_type": "markdown",
   "metadata": {},
   "source": [
    "#### Chekcing data types of all the columns"
   ]
  },
  {
   "cell_type": "code",
   "execution_count": 15,
   "metadata": {},
   "outputs": [
    {
     "data": {
      "text/plain": [
       "[('id', 'int'),\n",
       " ('store_nbr', 'int'),\n",
       " ('date', 'timestamp'),\n",
       " ('product_category', 'string'),\n",
       " ('onpromotion', 'int'),\n",
       " ('holiday_type', 'string'),\n",
       " ('locale', 'string'),\n",
       " ('transferred', 'boolean'),\n",
       " ('dcoilwtico', 'double'),\n",
       " ('store_type', 'string'),\n",
       " ('cluster', 'int'),\n",
       " ('transactions', 'int'),\n",
       " ('sales', 'double')]"
      ]
     },
     "execution_count": 15,
     "metadata": {},
     "output_type": "execute_result"
    }
   ],
   "source": [
    "df1.dtypes"
   ]
  },
  {
   "attachments": {},
   "cell_type": "markdown",
   "metadata": {},
   "source": [
    "#### Checking total number of rows in your Data Frame"
   ]
  },
  {
   "cell_type": "code",
   "execution_count": 16,
   "metadata": {},
   "outputs": [
    {
     "data": {
      "text/plain": [
       "322047"
      ]
     },
     "execution_count": 16,
     "metadata": {},
     "output_type": "execute_result"
    }
   ],
   "source": [
    "df1.count()"
   ]
  },
  {
   "attachments": {},
   "cell_type": "markdown",
   "metadata": {},
   "source": [
    "#### Creating new index for DataFrame\n",
    "* After performaing join operation the original indexing is disturbed"
   ]
  },
  {
   "cell_type": "code",
   "execution_count": 17,
   "metadata": {},
   "outputs": [
    {
     "name": "stdout",
     "output_type": "stream",
     "text": [
      "+---+---------+-------------------+----------------+-----------+------------+--------+-----------+----------+----------+-------+------------+-----+-----+\n",
      "| id|store_nbr|               date|product_category|onpromotion|holiday_type|  locale|transferred|dcoilwtico|store_type|cluster|transactions|sales|index|\n",
      "+---+---------+-------------------+----------------+-----------+------------+--------+-----------+----------+----------+-------+------------+-----+-----+\n",
      "|561|       25|2013-01-01 00:00:00|      AUTOMOTIVE|          0|     Holiday|National|      false|      null|         D|      1|         770|  0.0|    0|\n",
      "|562|       25|2013-01-01 00:00:00|       BABY CARE|          0|     Holiday|National|      false|      null|         D|      1|         770|  0.0|    1|\n",
      "|563|       25|2013-01-01 00:00:00|          BEAUTY|          0|     Holiday|National|      false|      null|         D|      1|         770|  2.0|    2|\n",
      "+---+---------+-------------------+----------------+-----------+------------+--------+-----------+----------+----------+-------+------------+-----+-----+\n",
      "only showing top 3 rows\n",
      "\n"
     ]
    }
   ],
   "source": [
    "from pyspark.sql.functions import desc, row_number, monotonically_increasing_id\n",
    "from pyspark.sql.window import Window\n",
    "\n",
    "df1 = df1.withColumn('index', row_number().over(Window.orderBy(monotonically_increasing_id())) - 1)\n",
    "df1.show(3)"
   ]
  },
  {
   "cell_type": "code",
   "execution_count": 18,
   "metadata": {},
   "outputs": [
    {
     "name": "stdout",
     "output_type": "stream",
     "text": [
      "+-----+---------+-------------------+----------------+-----------+------------+--------+-----------+----------+----------+-------+------------+-----+\n",
      "|index|store_nbr|               date|product_category|onpromotion|holiday_type|  locale|transferred|dcoilwtico|store_type|cluster|transactions|sales|\n",
      "+-----+---------+-------------------+----------------+-----------+------------+--------+-----------+----------+----------+-------+------------+-----+\n",
      "|    0|       25|2013-01-01 00:00:00|      AUTOMOTIVE|          0|     Holiday|National|      false|      null|         D|      1|         770|  0.0|\n",
      "|    1|       25|2013-01-01 00:00:00|       BABY CARE|          0|     Holiday|National|      false|      null|         D|      1|         770|  0.0|\n",
      "+-----+---------+-------------------+----------------+-----------+------------+--------+-----------+----------+----------+-------+------------+-----+\n",
      "only showing top 2 rows\n",
      "\n"
     ]
    }
   ],
   "source": [
    "df2 = df1.select(['index','store_nbr','date','product_category','onpromotion','holiday_type','locale',\n",
    "'transferred','dcoilwtico','store_type','cluster','transactions','sales'])\n",
    "df2.show(2)"
   ]
  },
  {
   "attachments": {},
   "cell_type": "markdown",
   "metadata": {},
   "source": [
    "### CHECKING FOR NULL VALUES in all the columns"
   ]
  },
  {
   "cell_type": "code",
   "execution_count": 19,
   "metadata": {},
   "outputs": [
    {
     "data": {
      "text/plain": [
       "{'index': 0,\n",
       " 'store_nbr': 0,\n",
       " 'date': 0,\n",
       " 'product_category': 0,\n",
       " 'onpromotion': 0,\n",
       " 'holiday_type': 0,\n",
       " 'locale': 0,\n",
       " 'transferred': 0,\n",
       " 'dcoilwtico': 22044,\n",
       " 'store_type': 0,\n",
       " 'cluster': 0,\n",
       " 'transactions': 0,\n",
       " 'sales': 0}"
      ]
     },
     "execution_count": 19,
     "metadata": {},
     "output_type": "execute_result"
    }
   ],
   "source": [
    "Dict_Null = {col:df2.filter(df2[col].isNull()).count() for col in df2.columns}\n",
    "Dict_Null"
   ]
  },
  {
   "attachments": {},
   "cell_type": "markdown",
   "metadata": {},
   "source": [
    "We have 22044 null values present in column 'dcoilwtico'\n",
    "- As seen above the column dcoilwtico has a data dtype \" double \" so we can use mean, median, mode to handle the missing values"
   ]
  },
  {
   "attachments": {},
   "cell_type": "markdown",
   "metadata": {},
   "source": [
    "#### Checking for how values are spread accross the 'dcoilwtico' column"
   ]
  },
  {
   "cell_type": "code",
   "execution_count": 20,
   "metadata": {},
   "outputs": [
    {
     "data": {
      "text/plain": [
       "[Row(dcoilwtico=94.74),\n",
       " Row(dcoilwtico=105.41),\n",
       " Row(dcoilwtico=97.1),\n",
       " Row(dcoilwtico=106.61),\n",
       " Row(dcoilwtico=91.23),\n",
       " Row(dcoilwtico=93.84),\n",
       " Row(dcoilwtico=99.18),\n",
       " Row(dcoilwtico=98.87),\n",
       " Row(dcoilwtico=94.25),\n",
       " Row(dcoilwtico=98.17),\n",
       " Row(dcoilwtico=None),\n",
       " Row(dcoilwtico=103.07),\n",
       " Row(dcoilwtico=97.14),\n",
       " Row(dcoilwtico=93.12),\n",
       " Row(dcoilwtico=105.34),\n",
       " Row(dcoilwtico=107.43),\n",
       " Row(dcoilwtico=101.92),\n",
       " Row(dcoilwtico=103.64),\n",
       " Row(dcoilwtico=95.25),\n",
       " Row(dcoilwtico=98.62),\n",
       " Row(dcoilwtico=97.01),\n",
       " Row(dcoilwtico=101.63),\n",
       " Row(dcoilwtico=102.17),\n",
       " Row(dcoilwtico=94.09),\n",
       " Row(dcoilwtico=90.74),\n",
       " Row(dcoilwtico=97.48),\n",
       " Row(dcoilwtico=105.47),\n",
       " Row(dcoilwtico=107.13),\n",
       " Row(dcoilwtico=95.13),\n",
       " Row(dcoilwtico=53.3),\n",
       " Row(dcoilwtico=99.69),\n",
       " Row(dcoilwtico=103.81),\n",
       " Row(dcoilwtico=102.76),\n",
       " Row(dcoilwtico=52.72),\n",
       " Row(dcoilwtico=106.83),\n",
       " Row(dcoilwtico=56.78),\n",
       " Row(dcoilwtico=53.56),\n",
       " Row(dcoilwtico=77.16),\n",
       " Row(dcoilwtico=50.12),\n",
       " Row(dcoilwtico=88.89),\n",
       " Row(dcoilwtico=104.76),\n",
       " Row(dcoilwtico=78.77),\n",
       " Row(dcoilwtico=77.43),\n",
       " Row(dcoilwtico=85.76),\n",
       " Row(dcoilwtico=60.72),\n",
       " Row(dcoilwtico=65.89),\n",
       " Row(dcoilwtico=55.7),\n",
       " Row(dcoilwtico=105.23),\n",
       " Row(dcoilwtico=97.3),\n",
       " Row(dcoilwtico=85.87),\n",
       " Row(dcoilwtico=102.93),\n",
       " Row(dcoilwtico=104.06),\n",
       " Row(dcoilwtico=97.34),\n",
       " Row(dcoilwtico=107.2),\n",
       " Row(dcoilwtico=77.85),\n",
       " Row(dcoilwtico=63.13),\n",
       " Row(dcoilwtico=104.05),\n",
       " Row(dcoilwtico=107.04),\n",
       " Row(dcoilwtico=59.1),\n",
       " Row(dcoilwtico=104.35),\n",
       " Row(dcoilwtico=106.07),\n",
       " Row(dcoilwtico=77.87),\n",
       " Row(dcoilwtico=106.06),\n",
       " Row(dcoilwtico=55.25),\n",
       " Row(dcoilwtico=54.59),\n",
       " Row(dcoilwtico=100.89),\n",
       " Row(dcoilwtico=107.95),\n",
       " Row(dcoilwtico=65.94),\n",
       " Row(dcoilwtico=68.98),\n",
       " Row(dcoilwtico=55.58),\n",
       " Row(dcoilwtico=49.59),\n",
       " Row(dcoilwtico=78.71),\n",
       " Row(dcoilwtico=53.45),\n",
       " Row(dcoilwtico=46.22),\n",
       " Row(dcoilwtico=44.58),\n",
       " Row(dcoilwtico=36.12),\n",
       " Row(dcoilwtico=47.88),\n",
       " Row(dcoilwtico=40.88),\n",
       " Row(dcoilwtico=45.29),\n",
       " Row(dcoilwtico=42.12),\n",
       " Row(dcoilwtico=49.34),\n",
       " Row(dcoilwtico=46.12),\n",
       " Row(dcoilwtico=40.43),\n",
       " Row(dcoilwtico=41.45),\n",
       " Row(dcoilwtico=44.32),\n",
       " Row(dcoilwtico=44.23),\n",
       " Row(dcoilwtico=37.13),\n",
       " Row(dcoilwtico=42.76),\n",
       " Row(dcoilwtico=35.36),\n",
       " Row(dcoilwtico=45.98),\n",
       " Row(dcoilwtico=46.21),\n",
       " Row(dcoilwtico=37.46),\n",
       " Row(dcoilwtico=43.45),\n",
       " Row(dcoilwtico=44.33),\n",
       " Row(dcoilwtico=46.03),\n",
       " Row(dcoilwtico=34.55),\n",
       " Row(dcoilwtico=40.57),\n",
       " Row(dcoilwtico=46.64),\n",
       " Row(dcoilwtico=49.67),\n",
       " Row(dcoilwtico=41.67),\n",
       " Row(dcoilwtico=44.94),\n",
       " Row(dcoilwtico=45.13),\n",
       " Row(dcoilwtico=47.98),\n",
       " Row(dcoilwtico=47.72),\n",
       " Row(dcoilwtico=44.75),\n",
       " Row(dcoilwtico=34.57),\n",
       " Row(dcoilwtico=41.83),\n",
       " Row(dcoilwtico=48.11),\n",
       " Row(dcoilwtico=27.96),\n",
       " Row(dcoilwtico=38.22),\n",
       " Row(dcoilwtico=42.95),\n",
       " Row(dcoilwtico=59.59),\n",
       " Row(dcoilwtico=43.77),\n",
       " Row(dcoilwtico=43.18),\n",
       " Row(dcoilwtico=61.05),\n",
       " Row(dcoilwtico=44.68),\n",
       " Row(dcoilwtico=42.52),\n",
       " Row(dcoilwtico=43.65),\n",
       " Row(dcoilwtico=48.04),\n",
       " Row(dcoilwtico=49.36),\n",
       " Row(dcoilwtico=29.71),\n",
       " Row(dcoilwtico=42.72),\n",
       " Row(dcoilwtico=47.86),\n",
       " Row(dcoilwtico=36.76),\n",
       " Row(dcoilwtico=44.4),\n",
       " Row(dcoilwtico=37.62),\n",
       " Row(dcoilwtico=39.74),\n",
       " Row(dcoilwtico=41.74),\n",
       " Row(dcoilwtico=42.4),\n",
       " Row(dcoilwtico=50.95),\n",
       " Row(dcoilwtico=46.72),\n",
       " Row(dcoilwtico=49.76),\n",
       " Row(dcoilwtico=48.83),\n",
       " Row(dcoilwtico=49.58),\n",
       " Row(dcoilwtico=51.44),\n",
       " Row(dcoilwtico=53.19),\n",
       " Row(dcoilwtico=44.62),\n",
       " Row(dcoilwtico=49.64),\n",
       " Row(dcoilwtico=47.77),\n",
       " Row(dcoilwtico=53.12),\n",
       " Row(dcoilwtico=45.66),\n",
       " Row(dcoilwtico=44.47),\n",
       " Row(dcoilwtico=50.84),\n",
       " Row(dcoilwtico=46.29),\n",
       " Row(dcoilwtico=42.86),\n",
       " Row(dcoilwtico=44.66),\n",
       " Row(dcoilwtico=54.04),\n",
       " Row(dcoilwtico=47.83),\n",
       " Row(dcoilwtico=50.99),\n",
       " Row(dcoilwtico=52.01),\n",
       " Row(dcoilwtico=47.07),\n",
       " Row(dcoilwtico=47.57),\n",
       " Row(dcoilwtico=44.07),\n",
       " Row(dcoilwtico=45.72),\n",
       " Row(dcoilwtico=48.54),\n",
       " Row(dcoilwtico=48.81),\n",
       " Row(dcoilwtico=52.63),\n",
       " Row(dcoilwtico=43.39),\n",
       " Row(dcoilwtico=45.32),\n",
       " Row(dcoilwtico=44.88),\n",
       " Row(dcoilwtico=41.75),\n",
       " Row(dcoilwtico=51.98),\n",
       " Row(dcoilwtico=54.0),\n",
       " Row(dcoilwtico=51.72)]"
      ]
     },
     "execution_count": 20,
     "metadata": {},
     "output_type": "execute_result"
    }
   ],
   "source": [
    "df2.select('dcoilwtico').distinct().collect()"
   ]
  },
  {
   "attachments": {},
   "cell_type": "markdown",
   "metadata": {},
   "source": [
    "#### Checking for some basic mathematical values of call the column"
   ]
  },
  {
   "cell_type": "code",
   "execution_count": 21,
   "metadata": {},
   "outputs": [
    {
     "name": "stdout",
     "output_type": "stream",
     "text": [
      "+-------+-----------------+------------------+----------------+-----------------+------------+--------+-----------------+----------+-----------------+------------------+------------------+\n",
      "|summary|            index|         store_nbr|product_category|      onpromotion|holiday_type|  locale|       dcoilwtico|store_type|          cluster|      transactions|             sales|\n",
      "+-------+-----------------+------------------+----------------+-----------------+------------+--------+-----------------+----------+-----------------+------------------+------------------+\n",
      "|  count|           322047|            322047|          322047|           322047|      322047|  322047|           300003|    322047|           322047|            322047|            322047|\n",
      "|   mean|         161023.0|26.994671585203402|            null|3.727136101252302|        null|    null|64.07791222084047|      null|8.531201967414693|1734.1178399426171| 406.3834521170104|\n",
      "| stddev|92967.10540831095|15.595174164123565|            null|15.51209509364528|        null|    null|25.14768237972726|      null|4.713808872981666|1050.3350183017578|1246.8812401017683|\n",
      "|    min|                0|                 1|      AUTOMOTIVE|                0|  Additional|   Local|            27.96|         A|                1|                54|               0.0|\n",
      "|    max|           322046|                54|         SEAFOOD|              716|    Transfer|Regional|           107.95|         E|               17|              8359|          124717.0|\n",
      "+-------+-----------------+------------------+----------------+-----------------+------------+--------+-----------------+----------+-----------------+------------------+------------------+\n",
      "\n"
     ]
    }
   ],
   "source": [
    "df2.describe().show()"
   ]
  },
  {
   "attachments": {},
   "cell_type": "markdown",
   "metadata": {},
   "source": [
    "#### Treating the null values"
   ]
  },
  {
   "cell_type": "code",
   "execution_count": 22,
   "metadata": {},
   "outputs": [],
   "source": [
    "df2 = df2.na.fill(64.077, 'dcoilwtico')"
   ]
  },
  {
   "cell_type": "code",
   "execution_count": 23,
   "metadata": {},
   "outputs": [
    {
     "data": {
      "text/plain": [
       "{'index': 0,\n",
       " 'store_nbr': 0,\n",
       " 'date': 0,\n",
       " 'product_category': 0,\n",
       " 'onpromotion': 0,\n",
       " 'holiday_type': 0,\n",
       " 'locale': 0,\n",
       " 'transferred': 0,\n",
       " 'dcoilwtico': 0,\n",
       " 'store_type': 0,\n",
       " 'cluster': 0,\n",
       " 'transactions': 0,\n",
       " 'sales': 0}"
      ]
     },
     "execution_count": 23,
     "metadata": {},
     "output_type": "execute_result"
    }
   ],
   "source": [
    "Dict_Null = {col:df2.filter(df2[col].isNull()).count() for col in df2.columns}\n",
    "Dict_Null"
   ]
  },
  {
   "attachments": {},
   "cell_type": "markdown",
   "metadata": {},
   "source": [
    "### NOW all the null values are taken care of."
   ]
  },
  {
   "cell_type": "code",
   "execution_count": 24,
   "metadata": {},
   "outputs": [
    {
     "name": "stdout",
     "output_type": "stream",
     "text": [
      "+-----+---------+-------------------+----------------+-----------+------------+--------+-----------+----------+----------+-------+------------+-----+\n",
      "|index|store_nbr|               date|product_category|onpromotion|holiday_type|  locale|transferred|dcoilwtico|store_type|cluster|transactions|sales|\n",
      "+-----+---------+-------------------+----------------+-----------+------------+--------+-----------+----------+----------+-------+------------+-----+\n",
      "|    0|       25|2013-01-01 00:00:00|      AUTOMOTIVE|          0|     Holiday|National|      false|    64.077|         D|      1|         770|  0.0|\n",
      "|    1|       25|2013-01-01 00:00:00|       BABY CARE|          0|     Holiday|National|      false|    64.077|         D|      1|         770|  0.0|\n",
      "+-----+---------+-------------------+----------------+-----------+------------+--------+-----------+----------+----------+-------+------------+-----+\n",
      "only showing top 2 rows\n",
      "\n"
     ]
    }
   ],
   "source": [
    "df2.show(2)"
   ]
  },
  {
   "attachments": {},
   "cell_type": "markdown",
   "metadata": {},
   "source": [
    "#### As we can see ye have a date column which has a data type as datestamp.\n",
    "- we can extract month, year, date, day of the week, time in hour to be more specific for our analysis. "
   ]
  },
  {
   "cell_type": "code",
   "execution_count": 25,
   "metadata": {},
   "outputs": [],
   "source": [
    "#from pyspark.sql.functions import *\n",
    "#df2.withColumn(\"Date\",to_date(current_timestamp())).show(truncate=False)"
   ]
  },
  {
   "cell_type": "code",
   "execution_count": 31,
   "metadata": {},
   "outputs": [],
   "source": [
    "from pyspark.sql.functions import from_unixtime, date_format\n",
    "df2 = df2.withColumn(\"year\", date_format(\"date\", \"yyyy\")).withColumn(\"month\", date_format(\"date\", \"MM\")).withColumn(\"day\", date_format(\"date\", \"dd\")).withColumn(\"hour\", date_format(\"date\", \"HH\")).withColumn(\"minute\", date_format(\"date\", \"mm\")).withColumn(\"day_of_week\", date_format(\"date\", \"EE\"))"
   ]
  },
  {
   "cell_type": "code",
   "execution_count": 32,
   "metadata": {},
   "outputs": [
    {
     "name": "stdout",
     "output_type": "stream",
     "text": [
      "+-----+---------+-------------------+----------------+-----------+------------+--------+-----------+----------+----------+-------+------------+-----+----+-----+---+----+------+-----------+\n",
      "|index|store_nbr|               date|product_category|onpromotion|holiday_type|  locale|transferred|dcoilwtico|store_type|cluster|transactions|sales|year|month|day|hour|minute|day_of_week|\n",
      "+-----+---------+-------------------+----------------+-----------+------------+--------+-----------+----------+----------+-------+------------+-----+----+-----+---+----+------+-----------+\n",
      "|    0|       25|2013-01-01 00:00:00|      AUTOMOTIVE|          0|     Holiday|National|      false|    64.077|         D|      1|         770|  0.0|2013|   01| 01|  00|    00|        Tue|\n",
      "+-----+---------+-------------------+----------------+-----------+------------+--------+-----------+----------+----------+-------+------------+-----+----+-----+---+----+------+-----------+\n",
      "only showing top 1 row\n",
      "\n"
     ]
    }
   ],
   "source": [
    "df2.show(1)"
   ]
  },
  {
   "attachments": {},
   "cell_type": "markdown",
   "metadata": {},
   "source": [
    "#### Storing the final resut in JSON file format"
   ]
  },
  {
   "cell_type": "code",
   "execution_count": 2,
   "metadata": {},
   "outputs": [],
   "source": [
    "df2.write.json(\"final_result.json\")\n"
   ]
  },
  {
   "cell_type": "code",
   "execution_count": null,
   "metadata": {},
   "outputs": [],
   "source": []
  },
  {
   "cell_type": "code",
   "execution_count": null,
   "metadata": {},
   "outputs": [],
   "source": []
  },
  {
   "cell_type": "code",
   "execution_count": null,
   "metadata": {},
   "outputs": [],
   "source": []
  },
  {
   "cell_type": "code",
   "execution_count": null,
   "metadata": {},
   "outputs": [],
   "source": []
  },
  {
   "cell_type": "code",
   "execution_count": null,
   "metadata": {},
   "outputs": [],
   "source": []
  },
  {
   "cell_type": "code",
   "execution_count": null,
   "metadata": {},
   "outputs": [],
   "source": []
  },
  {
   "cell_type": "code",
   "execution_count": null,
   "metadata": {},
   "outputs": [],
   "source": []
  },
  {
   "cell_type": "code",
   "execution_count": null,
   "metadata": {},
   "outputs": [],
   "source": []
  },
  {
   "cell_type": "code",
   "execution_count": null,
   "metadata": {},
   "outputs": [],
   "source": []
  }
 ],
 "metadata": {
  "kernelspec": {
   "display_name": "Python 3",
   "language": "python",
   "name": "python3"
  },
  "language_info": {
   "codemirror_mode": {
    "name": "ipython",
    "version": 3
   },
   "file_extension": ".py",
   "mimetype": "text/x-python",
   "name": "python",
   "nbconvert_exporter": "python",
   "pygments_lexer": "ipython3",
   "version": "3.10.9 (tags/v3.10.9:1dd9be6, Dec  6 2022, 20:01:21) [MSC v.1934 64 bit (AMD64)]"
  },
  "orig_nbformat": 4,
  "vscode": {
   "interpreter": {
    "hash": "63bbb560561b5e9bf259f556b1454c323c86693fab1cd537a12a0ec2d1b5272e"
   }
  }
 },
 "nbformat": 4,
 "nbformat_minor": 2
}
